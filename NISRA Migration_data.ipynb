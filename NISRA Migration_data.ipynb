{
 "cells": [
  {
   "cell_type": "markdown",
   "metadata": {},
   "source": [
    "NISRA data"
   ]
  },
  {
   "cell_type": "code",
   "execution_count": 1,
   "metadata": {
    "collapsed": true
   },
   "outputs": [],
   "source": [
    "from databaker.framework import *\n",
    "import pandas as pd"
   ]
  },
  {
   "cell_type": "code",
   "execution_count": 2,
   "metadata": {
    "collapsed": true
   },
   "outputs": [],
   "source": [
    "next_table = pd.DataFrame()"
   ]
  },
  {
   "cell_type": "code",
   "execution_count": 5,
   "metadata": {},
   "outputs": [],
   "source": [
    "%%capture\n",
    "%run \"NISRA Migration MEY17CoC.ipynb\"\n",
    "next_table = pd.concat([next_table, newFile])\n",
    "\n",
    "%run \"NISRA Migration MEY17CoC.ipynb\"\n",
    "next_table = pd.concat([next_table, newFile])\n",
    "\n",
    "%run\"NISRA Migration MYE17 NETMIG AGE.ipynb\"\n",
    "next_table = pd.concat([next_table, newFile])\n",
    "\n",
    "%run \"NISRA Migration MYE17 NETMIG FLOW.ipynb\"\n",
    "next_table = pd.concat([next_table, newFile])"
   ]
  },
  {
   "cell_type": "code",
   "execution_count": 6,
   "metadata": {},
   "outputs": [
    {
     "data": {
      "text/plain": [
       "Mid Year                       32357\n",
       "Area                           32357\n",
       "Age                            32357\n",
       "Sex                            32357\n",
       "Population Change Component    32357\n",
       "Measure Type                   32357\n",
       "Value                          32357\n",
       "Unit                           32357\n",
       "dtype: int64"
      ]
     },
     "execution_count": 6,
     "metadata": {},
     "output_type": "execute_result"
    }
   ],
   "source": [
    "next_table.count()"
   ]
  },
  {
   "cell_type": "code",
   "execution_count": 7,
   "metadata": {},
   "outputs": [
    {
     "data": {
      "text/html": [
       "<div>\n",
       "<style scoped>\n",
       "    .dataframe tbody tr th:only-of-type {\n",
       "        vertical-align: middle;\n",
       "    }\n",
       "\n",
       "    .dataframe tbody tr th {\n",
       "        vertical-align: top;\n",
       "    }\n",
       "\n",
       "    .dataframe thead th {\n",
       "        text-align: right;\n",
       "    }\n",
       "</style>\n",
       "<table border=\"1\" class=\"dataframe\">\n",
       "  <thead>\n",
       "    <tr style=\"text-align: right;\">\n",
       "      <th></th>\n",
       "      <th>Mid Year</th>\n",
       "      <th>Area</th>\n",
       "      <th>Age</th>\n",
       "      <th>Sex</th>\n",
       "      <th>Population Change Component</th>\n",
       "      <th>Measure Type</th>\n",
       "      <th>Value</th>\n",
       "      <th>Unit</th>\n",
       "    </tr>\n",
       "  </thead>\n",
       "  <tbody>\n",
       "    <tr>\n",
       "      <th>0</th>\n",
       "      <td>2001-06-30T00:00:00/P1Y</td>\n",
       "      <td>N92000002</td>\n",
       "      <td>all</td>\n",
       "      <td>T</td>\n",
       "      <td>Starting population</td>\n",
       "      <td>Count</td>\n",
       "      <td>1688838</td>\n",
       "      <td>People</td>\n",
       "    </tr>\n",
       "    <tr>\n",
       "      <th>1</th>\n",
       "      <td>2001-06-30T00:00:00/P1Y</td>\n",
       "      <td>N92000002</td>\n",
       "      <td>all</td>\n",
       "      <td>T</td>\n",
       "      <td>Births</td>\n",
       "      <td>Count</td>\n",
       "      <td>21460</td>\n",
       "      <td>People</td>\n",
       "    </tr>\n",
       "    <tr>\n",
       "      <th>2</th>\n",
       "      <td>2001-06-30T00:00:00/P1Y</td>\n",
       "      <td>N92000002</td>\n",
       "      <td>all</td>\n",
       "      <td>T</td>\n",
       "      <td>Deaths</td>\n",
       "      <td>Count</td>\n",
       "      <td>14432</td>\n",
       "      <td>People</td>\n",
       "    </tr>\n",
       "    <tr>\n",
       "      <th>3</th>\n",
       "      <td>2001-06-30T00:00:00/P1Y</td>\n",
       "      <td>N92000002</td>\n",
       "      <td>all</td>\n",
       "      <td>T</td>\n",
       "      <td>Natural Change</td>\n",
       "      <td>Count</td>\n",
       "      <td>7028</td>\n",
       "      <td>People</td>\n",
       "    </tr>\n",
       "    <tr>\n",
       "      <th>7</th>\n",
       "      <td>2001-06-30T00:00:00/P1Y</td>\n",
       "      <td>N92000002</td>\n",
       "      <td>all</td>\n",
       "      <td>T</td>\n",
       "      <td>United Kingdom Inflows</td>\n",
       "      <td>Count</td>\n",
       "      <td>12510</td>\n",
       "      <td>People</td>\n",
       "    </tr>\n",
       "  </tbody>\n",
       "</table>\n",
       "</div>"
      ],
      "text/plain": [
       "                  Mid Year       Area  Age Sex Population Change Component  \\\n",
       "0  2001-06-30T00:00:00/P1Y  N92000002  all   T         Starting population   \n",
       "1  2001-06-30T00:00:00/P1Y  N92000002  all   T                      Births   \n",
       "2  2001-06-30T00:00:00/P1Y  N92000002  all   T                      Deaths   \n",
       "3  2001-06-30T00:00:00/P1Y  N92000002  all   T              Natural Change   \n",
       "7  2001-06-30T00:00:00/P1Y  N92000002  all   T      United Kingdom Inflows   \n",
       "\n",
       "  Measure Type    Value    Unit  \n",
       "0        Count  1688838  People  \n",
       "1        Count    21460  People  \n",
       "2        Count    14432  People  \n",
       "3        Count     7028  People  \n",
       "7        Count    12510  People  "
      ]
     },
     "execution_count": 7,
     "metadata": {},
     "output_type": "execute_result"
    }
   ],
   "source": [
    "next_table.head()"
   ]
  },
  {
   "cell_type": "code",
   "execution_count": 8,
   "metadata": {},
   "outputs": [
    {
     "data": {
      "text/html": [
       "<div>\n",
       "<style scoped>\n",
       "    .dataframe tbody tr th:only-of-type {\n",
       "        vertical-align: middle;\n",
       "    }\n",
       "\n",
       "    .dataframe tbody tr th {\n",
       "        vertical-align: top;\n",
       "    }\n",
       "\n",
       "    .dataframe thead th {\n",
       "        text-align: right;\n",
       "    }\n",
       "</style>\n",
       "<table border=\"1\" class=\"dataframe\">\n",
       "  <thead>\n",
       "    <tr style=\"text-align: right;\">\n",
       "      <th></th>\n",
       "      <th>Mid Year</th>\n",
       "      <th>Area</th>\n",
       "      <th>Age</th>\n",
       "      <th>Sex</th>\n",
       "      <th>Population Change Component</th>\n",
       "      <th>Measure Type</th>\n",
       "      <th>Value</th>\n",
       "      <th>Unit</th>\n",
       "    </tr>\n",
       "  </thead>\n",
       "  <tbody>\n",
       "    <tr>\n",
       "      <th>139</th>\n",
       "      <td>2016-06-30T00:00:00/P1Y</td>\n",
       "      <td>N92000002</td>\n",
       "      <td>all</td>\n",
       "      <td>T</td>\n",
       "      <td>Rest of World Outflows</td>\n",
       "      <td>Count</td>\n",
       "      <td>10727</td>\n",
       "      <td>People</td>\n",
       "    </tr>\n",
       "    <tr>\n",
       "      <th>140</th>\n",
       "      <td>2016-06-30T00:00:00/P1Y</td>\n",
       "      <td>N92000002</td>\n",
       "      <td>all</td>\n",
       "      <td>T</td>\n",
       "      <td>Total Outflows</td>\n",
       "      <td>Count</td>\n",
       "      <td>20894</td>\n",
       "      <td>People</td>\n",
       "    </tr>\n",
       "    <tr>\n",
       "      <th>141</th>\n",
       "      <td>2016-06-30T00:00:00/P1Y</td>\n",
       "      <td>N92000002</td>\n",
       "      <td>all</td>\n",
       "      <td>T</td>\n",
       "      <td>United Kingdom Net</td>\n",
       "      <td>Count</td>\n",
       "      <td>592</td>\n",
       "      <td>People</td>\n",
       "    </tr>\n",
       "    <tr>\n",
       "      <th>142</th>\n",
       "      <td>2016-06-30T00:00:00/P1Y</td>\n",
       "      <td>N92000002</td>\n",
       "      <td>all</td>\n",
       "      <td>T</td>\n",
       "      <td>Rest of World Net</td>\n",
       "      <td>Count</td>\n",
       "      <td>583</td>\n",
       "      <td>People</td>\n",
       "    </tr>\n",
       "    <tr>\n",
       "      <th>143</th>\n",
       "      <td>2016-06-30T00:00:00/P1Y</td>\n",
       "      <td>N92000002</td>\n",
       "      <td>all</td>\n",
       "      <td>T</td>\n",
       "      <td>Total Net</td>\n",
       "      <td>Count</td>\n",
       "      <td>1175</td>\n",
       "      <td>People</td>\n",
       "    </tr>\n",
       "  </tbody>\n",
       "</table>\n",
       "</div>"
      ],
      "text/plain": [
       "                    Mid Year       Area  Age Sex Population Change Component  \\\n",
       "139  2016-06-30T00:00:00/P1Y  N92000002  all   T      Rest of World Outflows   \n",
       "140  2016-06-30T00:00:00/P1Y  N92000002  all   T              Total Outflows   \n",
       "141  2016-06-30T00:00:00/P1Y  N92000002  all   T          United Kingdom Net   \n",
       "142  2016-06-30T00:00:00/P1Y  N92000002  all   T           Rest of World Net   \n",
       "143  2016-06-30T00:00:00/P1Y  N92000002  all   T                   Total Net   \n",
       "\n",
       "    Measure Type  Value    Unit  \n",
       "139        Count  10727  People  \n",
       "140        Count  20894  People  \n",
       "141        Count    592  People  \n",
       "142        Count    583  People  \n",
       "143        Count   1175  People  "
      ]
     },
     "execution_count": 8,
     "metadata": {},
     "output_type": "execute_result"
    }
   ],
   "source": [
    "next_table.tail()"
   ]
  },
  {
   "cell_type": "code",
   "execution_count": 9,
   "metadata": {
    "collapsed": true
   },
   "outputs": [],
   "source": [
    "out = Path('out')\n",
    "out.mkdir(exist_ok=True)\n",
    "next_table.to_csv(out / 'migration_nisra.csv', index = False)"
   ]
  },
  {
   "cell_type": "code",
   "execution_count": null,
   "metadata": {
    "collapsed": true
   },
   "outputs": [],
   "source": []
  }
 ],
 "metadata": {
  "kernelspec": {
   "display_name": "Python 3",
   "language": "python",
   "name": "python3"
  },
  "language_info": {
   "codemirror_mode": {
    "name": "ipython",
    "version": 3
   },
   "file_extension": ".py",
   "mimetype": "text/x-python",
   "name": "python",
   "nbconvert_exporter": "python",
   "pygments_lexer": "ipython3",
   "version": "3.6.3"
  }
 },
 "nbformat": 4,
 "nbformat_minor": 2
}
