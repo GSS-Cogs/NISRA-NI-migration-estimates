{
 "cells": [
  {
   "attachments": {},
   "cell_type": "markdown",
   "metadata": {},
   "source": [
    "Table 1.3: Estimated Net International Migration, by Age and Gender (mid-2016 to mid-2017)"
   ]
  },
  {
   "cell_type": "code",
   "execution_count": 1,
   "metadata": {
    "collapsed": true
   },
   "outputs": [],
   "source": [
    "from databaker.framework import *\n",
    "import pandas as pd "
   ]
  },
  {
   "cell_type": "code",
   "execution_count": 2,
   "metadata": {
    "collapsed": true
   },
   "outputs": [],
   "source": [
    "import requests\n",
    "from cachecontrol import CacheControl\n",
    "from cachecontrol.caches.file_cache import FileCache\n",
    "from cachecontrol.heuristics import LastModified\n",
    "from pathlib import Path\n",
    "\n",
    "session = CacheControl(requests.Session(),\n",
    "                       cache=FileCache('.cache'),\n",
    "                       heuristic=LastModified())\n",
    "\n",
    "sourceFolder = Path('in')\n",
    "sourceFolder.mkdir(exist_ok=True)\n",
    "\n",
    "inputURL = 'https://www.nisra.gov.uk/sites/nisra.gov.uk/files/publications/Mig1617-Official.xlsx'\n",
    "inputFile = sourceFolder / 'Mig1617-Official.xlsx'\n",
    "response = session.get(inputURL)\n",
    "with open(inputFile, 'wb') as f:\n",
    "  f.write(response.content)"
   ]
  },
  {
   "cell_type": "code",
   "execution_count": 3,
   "metadata": {},
   "outputs": [
    {
     "name": "stdout",
     "output_type": "stream",
     "text": [
      "Loading in\\Mig1617-Official.xlsx which has size 194382 bytes\n",
      "Table names: ['Table 1.3']\n"
     ]
    }
   ],
   "source": [
    "tab = loadxlstabs(inputFile, sheetids='Table 1.3')[0]"
   ]
  },
  {
   "cell_type": "code",
   "execution_count": 4,
   "metadata": {},
   "outputs": [
    {
     "data": {
      "text/plain": [
       "{<B4 327.0>, <B15 -170.0>, <A15 '25-34'>, <A8 '35-44'>, <B17 1.0>, <A20 'Total'>, <A13 'Less than 18 years'>, <B19 -40.0>, <A1 'Table 1.3: Estimated Net International Migration, by Age and Gender (mid-2016 to mid-2017)'>, <A7 '25-34'>, <B10 -57.0>, <A14 '18-24'>, <B6 25.0>, <A16 '35-44'>, <B11 -73.0>, <B7 -95.0>, <B13 511.0>, <B18 -15.0>, <B16 -83.0>, <A19 '65 years and over'>, <B5 496.0>, <B1 ''>, <A11 '65 years and over'>, <A12 'Female'>, <B20 583.0>, <A4 'Male '>, <B2 ''>, <B14 52.0>, <A18 '55-64'>, <A6 '18-24'>, <B9 46.0>, <B8 -15.0>, <A17 '45-54'>, <B3 'Net International Migration'>, <A2 ''>, <B12 256.0>, <A5 'Less than 18 years'>, <A9 '45-54'>, <A3 'Gender / Age'>, <A10 '55-64'>}"
      ]
     },
     "execution_count": 4,
     "metadata": {},
     "output_type": "execute_result"
    }
   ],
   "source": [
    "tab"
   ]
  },
  {
   "cell_type": "code",
   "execution_count": 5,
   "metadata": {
    "collapsed": true
   },
   "outputs": [],
   "source": [
    "observations = tab.excel_ref('B4').expand(DOWN).is_not_blank()"
   ]
  },
  {
   "cell_type": "code",
   "execution_count": 6,
   "metadata": {},
   "outputs": [
    {
     "data": {
      "text/plain": [
       "{<B4 327.0>, <B15 -170.0>, <B13 511.0>, <B18 -15.0>, <B9 46.0>, <B16 -83.0>, <B5 496.0>, <B8 -15.0>, <B20 583.0>, <B12 256.0>, <B10 -57.0>, <B14 52.0>, <B6 25.0>, <B17 1.0>, <B19 -40.0>, <B11 -73.0>, <B7 -95.0>}"
      ]
     },
     "execution_count": 6,
     "metadata": {},
     "output_type": "execute_result"
    }
   ],
   "source": [
    "observations"
   ]
  },
  {
   "cell_type": "code",
   "execution_count": 7,
   "metadata": {},
   "outputs": [
    {
     "data": {
      "text/plain": [
       "{<B3 'Net International Migration'>}"
      ]
     },
     "execution_count": 7,
     "metadata": {},
     "output_type": "execute_result"
    }
   ],
   "source": [
    "Flow = tab.excel_ref('B3')\n",
    "Flow"
   ]
  },
  {
   "cell_type": "code",
   "execution_count": 8,
   "metadata": {},
   "outputs": [
    {
     "data": {
      "text/plain": [
       "{<A12 'Female'>, <A4 'Male '>}"
      ]
     },
     "execution_count": 8,
     "metadata": {},
     "output_type": "execute_result"
    }
   ],
   "source": [
    "sex = tab.excel_ref('A').expand(DOWN).by_index([4,12])\n",
    "sex"
   ]
  },
  {
   "cell_type": "code",
   "execution_count": 9,
   "metadata": {},
   "outputs": [
    {
     "data": {
      "text/plain": [
       "{<A15 '25-34'>, <A19 '65 years and over'>, <A17 '45-54'>, <A7 '25-34'>, <A11 '65 years and over'>, <A8 '35-44'>, <A12 'Female'>, <A4 'Male '>, <A5 'Less than 18 years'>, <A9 '45-54'>, <A14 '18-24'>, <A18 '55-64'>, <A16 '35-44'>, <A20 'Total'>, <A13 'Less than 18 years'>, <A6 '18-24'>, <A10 '55-64'>}"
      ]
     },
     "execution_count": 9,
     "metadata": {},
     "output_type": "execute_result"
    }
   ],
   "source": [
    "Age = tab.excel_ref('A4').expand(DOWN).is_not_blank() \n",
    "Age"
   ]
  },
  {
   "cell_type": "code",
   "execution_count": 10,
   "metadata": {},
   "outputs": [],
   "source": [
    "Dimensions = [\n",
    "            HDim(Flow,'Flow',DIRECTLY,ABOVE),\n",
    "            HDim(sex,'Sex',CLOSEST, ABOVE),\n",
    "            HDim(Age,'Age',DIRECTLY, LEFT),\n",
    "            HDimConst('Measure Type', 'Count'),\n",
    "            HDimConst('Unit','People')\n",
    "            ]"
   ]
  },
  {
   "cell_type": "code",
   "execution_count": 11,
   "metadata": {},
   "outputs": [],
   "source": [
    "c1 = ConversionSegment(observations, Dimensions, processTIMEUNIT=True)\n",
    "# savepreviewhtml(c1)"
   ]
  },
  {
   "cell_type": "code",
   "execution_count": 12,
   "metadata": {},
   "outputs": [
    {
     "name": "stdout",
     "output_type": "stream",
     "text": [
      "\n"
     ]
    },
    {
     "data": {
      "text/html": [
       "<div>\n",
       "<style scoped>\n",
       "    .dataframe tbody tr th:only-of-type {\n",
       "        vertical-align: middle;\n",
       "    }\n",
       "\n",
       "    .dataframe tbody tr th {\n",
       "        vertical-align: top;\n",
       "    }\n",
       "\n",
       "    .dataframe thead th {\n",
       "        text-align: right;\n",
       "    }\n",
       "</style>\n",
       "<table border=\"1\" class=\"dataframe\">\n",
       "  <thead>\n",
       "    <tr style=\"text-align: right;\">\n",
       "      <th></th>\n",
       "      <th>OBS</th>\n",
       "      <th>Flow</th>\n",
       "      <th>Sex</th>\n",
       "      <th>Age</th>\n",
       "      <th>Measure Type</th>\n",
       "      <th>Unit</th>\n",
       "    </tr>\n",
       "  </thead>\n",
       "  <tbody>\n",
       "    <tr>\n",
       "      <th>0</th>\n",
       "      <td>327.0</td>\n",
       "      <td>Net International Migration</td>\n",
       "      <td>Male</td>\n",
       "      <td>Male</td>\n",
       "      <td>Count</td>\n",
       "      <td>People</td>\n",
       "    </tr>\n",
       "    <tr>\n",
       "      <th>1</th>\n",
       "      <td>496.0</td>\n",
       "      <td>Net International Migration</td>\n",
       "      <td>Male</td>\n",
       "      <td>Less than 18 years</td>\n",
       "      <td>Count</td>\n",
       "      <td>People</td>\n",
       "    </tr>\n",
       "    <tr>\n",
       "      <th>2</th>\n",
       "      <td>25.0</td>\n",
       "      <td>Net International Migration</td>\n",
       "      <td>Male</td>\n",
       "      <td>18-24</td>\n",
       "      <td>Count</td>\n",
       "      <td>People</td>\n",
       "    </tr>\n",
       "    <tr>\n",
       "      <th>3</th>\n",
       "      <td>-95.0</td>\n",
       "      <td>Net International Migration</td>\n",
       "      <td>Male</td>\n",
       "      <td>25-34</td>\n",
       "      <td>Count</td>\n",
       "      <td>People</td>\n",
       "    </tr>\n",
       "    <tr>\n",
       "      <th>4</th>\n",
       "      <td>-15.0</td>\n",
       "      <td>Net International Migration</td>\n",
       "      <td>Male</td>\n",
       "      <td>35-44</td>\n",
       "      <td>Count</td>\n",
       "      <td>People</td>\n",
       "    </tr>\n",
       "    <tr>\n",
       "      <th>5</th>\n",
       "      <td>46.0</td>\n",
       "      <td>Net International Migration</td>\n",
       "      <td>Male</td>\n",
       "      <td>45-54</td>\n",
       "      <td>Count</td>\n",
       "      <td>People</td>\n",
       "    </tr>\n",
       "    <tr>\n",
       "      <th>6</th>\n",
       "      <td>-57.0</td>\n",
       "      <td>Net International Migration</td>\n",
       "      <td>Male</td>\n",
       "      <td>55-64</td>\n",
       "      <td>Count</td>\n",
       "      <td>People</td>\n",
       "    </tr>\n",
       "    <tr>\n",
       "      <th>7</th>\n",
       "      <td>-73.0</td>\n",
       "      <td>Net International Migration</td>\n",
       "      <td>Male</td>\n",
       "      <td>65 years and over</td>\n",
       "      <td>Count</td>\n",
       "      <td>People</td>\n",
       "    </tr>\n",
       "    <tr>\n",
       "      <th>8</th>\n",
       "      <td>256.0</td>\n",
       "      <td>Net International Migration</td>\n",
       "      <td>Female</td>\n",
       "      <td>Female</td>\n",
       "      <td>Count</td>\n",
       "      <td>People</td>\n",
       "    </tr>\n",
       "    <tr>\n",
       "      <th>9</th>\n",
       "      <td>511.0</td>\n",
       "      <td>Net International Migration</td>\n",
       "      <td>Female</td>\n",
       "      <td>Less than 18 years</td>\n",
       "      <td>Count</td>\n",
       "      <td>People</td>\n",
       "    </tr>\n",
       "    <tr>\n",
       "      <th>10</th>\n",
       "      <td>52.0</td>\n",
       "      <td>Net International Migration</td>\n",
       "      <td>Female</td>\n",
       "      <td>18-24</td>\n",
       "      <td>Count</td>\n",
       "      <td>People</td>\n",
       "    </tr>\n",
       "    <tr>\n",
       "      <th>11</th>\n",
       "      <td>-170.0</td>\n",
       "      <td>Net International Migration</td>\n",
       "      <td>Female</td>\n",
       "      <td>25-34</td>\n",
       "      <td>Count</td>\n",
       "      <td>People</td>\n",
       "    </tr>\n",
       "    <tr>\n",
       "      <th>12</th>\n",
       "      <td>-83.0</td>\n",
       "      <td>Net International Migration</td>\n",
       "      <td>Female</td>\n",
       "      <td>35-44</td>\n",
       "      <td>Count</td>\n",
       "      <td>People</td>\n",
       "    </tr>\n",
       "    <tr>\n",
       "      <th>13</th>\n",
       "      <td>1.0</td>\n",
       "      <td>Net International Migration</td>\n",
       "      <td>Female</td>\n",
       "      <td>45-54</td>\n",
       "      <td>Count</td>\n",
       "      <td>People</td>\n",
       "    </tr>\n",
       "    <tr>\n",
       "      <th>14</th>\n",
       "      <td>-15.0</td>\n",
       "      <td>Net International Migration</td>\n",
       "      <td>Female</td>\n",
       "      <td>55-64</td>\n",
       "      <td>Count</td>\n",
       "      <td>People</td>\n",
       "    </tr>\n",
       "    <tr>\n",
       "      <th>15</th>\n",
       "      <td>-40.0</td>\n",
       "      <td>Net International Migration</td>\n",
       "      <td>Female</td>\n",
       "      <td>65 years and over</td>\n",
       "      <td>Count</td>\n",
       "      <td>People</td>\n",
       "    </tr>\n",
       "    <tr>\n",
       "      <th>16</th>\n",
       "      <td>583.0</td>\n",
       "      <td>Net International Migration</td>\n",
       "      <td>Female</td>\n",
       "      <td>Total</td>\n",
       "      <td>Count</td>\n",
       "      <td>People</td>\n",
       "    </tr>\n",
       "  </tbody>\n",
       "</table>\n",
       "</div>"
      ],
      "text/plain": [
       "      OBS                         Flow     Sex                 Age  \\\n",
       "0   327.0  Net International Migration   Male                Male    \n",
       "1   496.0  Net International Migration   Male   Less than 18 years   \n",
       "2    25.0  Net International Migration   Male                18-24   \n",
       "3   -95.0  Net International Migration   Male                25-34   \n",
       "4   -15.0  Net International Migration   Male                35-44   \n",
       "5    46.0  Net International Migration   Male                45-54   \n",
       "6   -57.0  Net International Migration   Male                55-64   \n",
       "7   -73.0  Net International Migration   Male    65 years and over   \n",
       "8   256.0  Net International Migration  Female              Female   \n",
       "9   511.0  Net International Migration  Female  Less than 18 years   \n",
       "10   52.0  Net International Migration  Female               18-24   \n",
       "11 -170.0  Net International Migration  Female               25-34   \n",
       "12  -83.0  Net International Migration  Female               35-44   \n",
       "13    1.0  Net International Migration  Female               45-54   \n",
       "14  -15.0  Net International Migration  Female               55-64   \n",
       "15  -40.0  Net International Migration  Female   65 years and over   \n",
       "16  583.0  Net International Migration  Female               Total   \n",
       "\n",
       "   Measure Type    Unit  \n",
       "0         Count  People  \n",
       "1         Count  People  \n",
       "2         Count  People  \n",
       "3         Count  People  \n",
       "4         Count  People  \n",
       "5         Count  People  \n",
       "6         Count  People  \n",
       "7         Count  People  \n",
       "8         Count  People  \n",
       "9         Count  People  \n",
       "10        Count  People  \n",
       "11        Count  People  \n",
       "12        Count  People  \n",
       "13        Count  People  \n",
       "14        Count  People  \n",
       "15        Count  People  \n",
       "16        Count  People  "
      ]
     },
     "execution_count": 12,
     "metadata": {},
     "output_type": "execute_result"
    }
   ],
   "source": [
    "new_table = c1.topandas()\n",
    "new_table"
   ]
  },
  {
   "cell_type": "code",
   "execution_count": 13,
   "metadata": {
    "collapsed": true
   },
   "outputs": [],
   "source": [
    "new_table['OBS'] = new_table['OBS'].astype(int)"
   ]
  },
  {
   "cell_type": "code",
   "execution_count": 14,
   "metadata": {},
   "outputs": [
    {
     "data": {
      "text/plain": [
       "OBS              int32\n",
       "Flow            object\n",
       "Sex             object\n",
       "Age             object\n",
       "Measure Type    object\n",
       "Unit            object\n",
       "dtype: object"
      ]
     },
     "execution_count": 14,
     "metadata": {},
     "output_type": "execute_result"
    }
   ],
   "source": [
    "new_table.dtypes"
   ]
  },
  {
   "cell_type": "code",
   "execution_count": 15,
   "metadata": {},
   "outputs": [],
   "source": [
    "new_table['Age'] = new_table['Age'].map(lambda cell:cell.replace('Total', 'all'))"
   ]
  },
  {
   "cell_type": "code",
   "execution_count": 16,
   "metadata": {
    "collapsed": true
   },
   "outputs": [],
   "source": [
    "new_table.columns = ['Value' if x=='OBS' else x for x in new_table.columns]"
   ]
  },
  {
   "cell_type": "code",
   "execution_count": 17,
   "metadata": {
    "collapsed": true
   },
   "outputs": [],
   "source": [
    "new_table['Age'] = new_table['Age'].map(\n",
    "    lambda x: {\n",
    "        'Female' : 'all years', \n",
    "        'Male ' : 'all years'\n",
    "        }.get(x, x))"
   ]
  },
  {
   "cell_type": "code",
   "execution_count": 18,
   "metadata": {},
   "outputs": [],
   "source": [
    "new_table = new_table[['Age','Sex','Flow','Measure Type','Value','Unit']]"
   ]
  },
  {
   "cell_type": "code",
   "execution_count": 19,
   "metadata": {},
   "outputs": [
    {
     "data": {
      "text/html": [
       "<div>\n",
       "<style scoped>\n",
       "    .dataframe tbody tr th:only-of-type {\n",
       "        vertical-align: middle;\n",
       "    }\n",
       "\n",
       "    .dataframe tbody tr th {\n",
       "        vertical-align: top;\n",
       "    }\n",
       "\n",
       "    .dataframe thead th {\n",
       "        text-align: right;\n",
       "    }\n",
       "</style>\n",
       "<table border=\"1\" class=\"dataframe\">\n",
       "  <thead>\n",
       "    <tr style=\"text-align: right;\">\n",
       "      <th></th>\n",
       "      <th>Age</th>\n",
       "      <th>Sex</th>\n",
       "      <th>Flow</th>\n",
       "      <th>Measure Type</th>\n",
       "      <th>Value</th>\n",
       "      <th>Unit</th>\n",
       "    </tr>\n",
       "  </thead>\n",
       "  <tbody>\n",
       "    <tr>\n",
       "      <th>0</th>\n",
       "      <td>all years</td>\n",
       "      <td>Male</td>\n",
       "      <td>Net International Migration</td>\n",
       "      <td>Count</td>\n",
       "      <td>327</td>\n",
       "      <td>People</td>\n",
       "    </tr>\n",
       "    <tr>\n",
       "      <th>1</th>\n",
       "      <td>Less than 18 years</td>\n",
       "      <td>Male</td>\n",
       "      <td>Net International Migration</td>\n",
       "      <td>Count</td>\n",
       "      <td>496</td>\n",
       "      <td>People</td>\n",
       "    </tr>\n",
       "    <tr>\n",
       "      <th>2</th>\n",
       "      <td>18-24</td>\n",
       "      <td>Male</td>\n",
       "      <td>Net International Migration</td>\n",
       "      <td>Count</td>\n",
       "      <td>25</td>\n",
       "      <td>People</td>\n",
       "    </tr>\n",
       "    <tr>\n",
       "      <th>3</th>\n",
       "      <td>25-34</td>\n",
       "      <td>Male</td>\n",
       "      <td>Net International Migration</td>\n",
       "      <td>Count</td>\n",
       "      <td>-95</td>\n",
       "      <td>People</td>\n",
       "    </tr>\n",
       "    <tr>\n",
       "      <th>4</th>\n",
       "      <td>35-44</td>\n",
       "      <td>Male</td>\n",
       "      <td>Net International Migration</td>\n",
       "      <td>Count</td>\n",
       "      <td>-15</td>\n",
       "      <td>People</td>\n",
       "    </tr>\n",
       "  </tbody>\n",
       "</table>\n",
       "</div>"
      ],
      "text/plain": [
       "                  Age    Sex                         Flow Measure Type  Value  \\\n",
       "0           all years  Male   Net International Migration        Count    327   \n",
       "1  Less than 18 years  Male   Net International Migration        Count    496   \n",
       "2               18-24  Male   Net International Migration        Count     25   \n",
       "3               25-34  Male   Net International Migration        Count    -95   \n",
       "4               35-44  Male   Net International Migration        Count    -15   \n",
       "\n",
       "     Unit  \n",
       "0  People  \n",
       "1  People  \n",
       "2  People  \n",
       "3  People  \n",
       "4  People  "
      ]
     },
     "execution_count": 19,
     "metadata": {},
     "output_type": "execute_result"
    }
   ],
   "source": [
    "new_table.head(5)"
   ]
  },
  {
   "cell_type": "code",
   "execution_count": 20,
   "metadata": {
    "collapsed": true
   },
   "outputs": [],
   "source": [
    "destinationFolder = Path('out')\n",
    "destinationFolder.mkdir(exist_ok=True, parents=True)\n",
    "\n",
    "new_table.to_csv(destinationFolder / ('tidydata1.3.csv'), index = False)"
   ]
  },
  {
   "cell_type": "code",
   "execution_count": null,
   "metadata": {
    "collapsed": true
   },
   "outputs": [],
   "source": []
  }
 ],
 "metadata": {
  "kernelspec": {
   "display_name": "Python 3",
   "language": "python",
   "name": "python3"
  },
  "language_info": {
   "codemirror_mode": {
    "name": "ipython",
    "version": 3
   },
   "file_extension": ".py",
   "mimetype": "text/x-python",
   "name": "python",
   "nbconvert_exporter": "python",
   "pygments_lexer": "ipython3",
   "version": "3.6.3"
  }
 },
 "nbformat": 4,
 "nbformat_minor": 2
}
